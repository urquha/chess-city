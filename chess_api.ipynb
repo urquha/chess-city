{
 "cells": [
  {
   "cell_type": "code",
   "execution_count": 3,
   "id": "781f0288-c1b3-4d3f-8733-51ff16f7c3f9",
   "metadata": {},
   "outputs": [],
   "source": [
    "from chessdotcom import client\n",
    "import pandas as pd"
   ]
  },
  {
   "cell_type": "code",
   "execution_count": 192,
   "id": "8738fc09-6823-4a33-8f90-0684e7b6d3e3",
   "metadata": {},
   "outputs": [],
   "source": [
    "user_name = \"kirkey02\""
   ]
  },
  {
   "cell_type": "code",
   "execution_count": 209,
   "id": "99bf6a7d-c6ed-40ee-9dde-74c9db8f6963",
   "metadata": {},
   "outputs": [
    {
     "data": {
      "text/plain": [
       "namespace(avatar='https://images.chesscomfiles.com/uploads/v1/user/39309608.2e314836.200x200o.c114f3211bea.jpeg',\n",
       "          player_id=39309608,\n",
       "          id='https://api.chess.com/pub/player/kirkey02',\n",
       "          url='https://www.chess.com/member/kirkey02',\n",
       "          username='kirkey02',\n",
       "          followers=4,\n",
       "          country='https://api.chess.com/pub/country/GB',\n",
       "          last_online=1668095006,\n",
       "          joined=1507569159,\n",
       "          status='premium',\n",
       "          is_streamer=False,\n",
       "          verified=False)"
      ]
     },
     "execution_count": 209,
     "metadata": {},
     "output_type": "execute_result"
    }
   ],
   "source": [
    "response = client.get_player_profile(user_name)\n",
    "\n",
    "response.player"
   ]
  },
  {
   "cell_type": "code",
   "execution_count": null,
   "id": "0bba15c5-6296-4274-aa7f-ef07d63214da",
   "metadata": {},
   "outputs": [],
   "source": [
    "def chunks(lst, n):\n",
    "    \"\"\"Yield successive n-sized chunks from lst.\"\"\"\n",
    "    for i in range(0, len(lst), n):\n",
    "        yield lst[i:i + n]"
   ]
  },
  {
   "cell_type": "code",
   "execution_count": 194,
   "id": "09292b47-a25e-456b-83c6-57cc9d21c5ba",
   "metadata": {},
   "outputs": [],
   "source": [
    "games_list = []\n",
    "\n",
    "for month in range(1,12):\n",
    "    resp = client.get_player_games_by_month_pgn(user_name, 2022, month)\n",
    "    games_response_text = resp.pgn.pgn\n",
    "    games_response_list = games_response_text.split(\"\\n\")\n",
    "\n",
    "\n",
    "    games_chunks = chunks(games_response_list, 25)\n",
    "\n",
    "\n",
    "    for game_list in games_chunks:\n",
    "        game_dict = {}\n",
    "        for line in game_list:\n",
    "            if len(line) > 0:\n",
    "                if line[0] == '1':\n",
    "                    game_dict['Moves'] = line\n",
    "                else:\n",
    "                    key = line.split(\" \")[0][1:]\n",
    "                    value = line.split('\"')[1]\n",
    "                    game_dict[key] = value\n",
    "\n",
    "        games_list.append(game_dict)"
   ]
  },
  {
   "cell_type": "code",
   "execution_count": 195,
   "id": "92728fd0-95ce-4de8-940d-57e7523bf4d3",
   "metadata": {},
   "outputs": [],
   "source": [
    "chess_df = pd.DataFrame(games_list).sort_values(['Date'])"
   ]
  },
  {
   "cell_type": "code",
   "execution_count": 196,
   "id": "64793c8b-22f6-4bee-b99d-e450c033468b",
   "metadata": {},
   "outputs": [],
   "source": [
    "chess_df['W/L_Points'] = chess_df.apply(lambda row: 1 if row['Result'] == \"1-0\" else -1 if row['Result'] == \"0-1\" else 0, axis=1)\n",
    "chess_df['ResultWords'] = chess_df.apply(lambda row: \"Win\" if row['Result'] == \"1-0\" else \"Loss\" if row['Result'] == \"0-1\" else \"Draw\", axis=1)"
   ]
  },
  {
   "cell_type": "code",
   "execution_count": 197,
   "id": "d6ce0f2b-04a3-4ab0-b780-5a8ab775a708",
   "metadata": {},
   "outputs": [
    {
     "data": {
      "text/html": [
       "<div>\n",
       "<style scoped>\n",
       "    .dataframe tbody tr th:only-of-type {\n",
       "        vertical-align: middle;\n",
       "    }\n",
       "\n",
       "    .dataframe tbody tr th {\n",
       "        vertical-align: top;\n",
       "    }\n",
       "\n",
       "    .dataframe thead th {\n",
       "        text-align: right;\n",
       "    }\n",
       "</style>\n",
       "<table border=\"1\" class=\"dataframe\">\n",
       "  <thead>\n",
       "    <tr style=\"text-align: right;\">\n",
       "      <th></th>\n",
       "      <th>W/L_Points</th>\n",
       "    </tr>\n",
       "    <tr>\n",
       "      <th>ECO</th>\n",
       "      <th></th>\n",
       "    </tr>\n",
       "  </thead>\n",
       "  <tbody>\n",
       "    <tr>\n",
       "      <th>D02</th>\n",
       "      <td>20</td>\n",
       "    </tr>\n",
       "    <tr>\n",
       "      <th>D00</th>\n",
       "      <td>18</td>\n",
       "    </tr>\n",
       "    <tr>\n",
       "      <th>D06</th>\n",
       "      <td>18</td>\n",
       "    </tr>\n",
       "    <tr>\n",
       "      <th>A04</th>\n",
       "      <td>13</td>\n",
       "    </tr>\n",
       "    <tr>\n",
       "      <th>A41</th>\n",
       "      <td>7</td>\n",
       "    </tr>\n",
       "    <tr>\n",
       "      <th>...</th>\n",
       "      <td>...</td>\n",
       "    </tr>\n",
       "    <tr>\n",
       "      <th>B11</th>\n",
       "      <td>-7</td>\n",
       "    </tr>\n",
       "    <tr>\n",
       "      <th>C55</th>\n",
       "      <td>-7</td>\n",
       "    </tr>\n",
       "    <tr>\n",
       "      <th>A43</th>\n",
       "      <td>-10</td>\n",
       "    </tr>\n",
       "    <tr>\n",
       "      <th>B12</th>\n",
       "      <td>-20</td>\n",
       "    </tr>\n",
       "    <tr>\n",
       "      <th>B10</th>\n",
       "      <td>-24</td>\n",
       "    </tr>\n",
       "  </tbody>\n",
       "</table>\n",
       "<p>122 rows × 1 columns</p>\n",
       "</div>"
      ],
      "text/plain": [
       "     W/L_Points\n",
       "ECO            \n",
       "D02          20\n",
       "D00          18\n",
       "D06          18\n",
       "A04          13\n",
       "A41           7\n",
       "..          ...\n",
       "B11          -7\n",
       "C55          -7\n",
       "A43         -10\n",
       "B12         -20\n",
       "B10         -24\n",
       "\n",
       "[122 rows x 1 columns]"
      ]
     },
     "execution_count": 197,
     "metadata": {},
     "output_type": "execute_result"
    }
   ],
   "source": [
    "chess_df.groupby([\"ECO\"]).sum().sort_values('W/L_Points', ascending=False)"
   ]
  },
  {
   "cell_type": "code",
   "execution_count": 198,
   "id": "2e03e340-a868-4be0-8940-1d6c69cffe62",
   "metadata": {},
   "outputs": [],
   "source": [
    "chess_df['Colour'] = chess_df.apply(lambda row: \"White\" if user_name in row['White'] else \"Black\", axis=1)"
   ]
  },
  {
   "cell_type": "code",
   "execution_count": 202,
   "id": "6610ee29-1099-4202-b29d-7c2b332026eb",
   "metadata": {},
   "outputs": [],
   "source": [
    "def check_victory_method(termination):\n",
    "    if \"checkmate\" in termination:\n",
    "        return \"Checkmate\"\n",
    "    if \"resignation\" in termination:\n",
    "        return \"Resignation\"\n",
    "    if \"time\" in termination:\n",
    "        return \"Time\"\n",
    "    if \"stalemate\" in termination:\n",
    "        return \"Stalemate\"\n",
    "    if \"abandoned\" in termination:\n",
    "        return \"Abandoned\"\n",
    "    if \"repetition\" in termination:\n",
    "        return \"Repetition\"\n",
    "    if \"insufficient material\" in termination:\n",
    "        return \"Insufficient material\"\n",
    "    if \"Game drawn by agreement\" in termination:\n",
    "        return \"Game drawn by agreement\"\n",
    "    else:\n",
    "        return 0"
   ]
  },
  {
   "cell_type": "code",
   "execution_count": 203,
   "id": "dbc45a73-0dee-4b67-8bac-4e85021f62f1",
   "metadata": {},
   "outputs": [],
   "source": [
    "chess_df[\"VictoryMethod\"] = chess_df.apply(lambda row: check_victory_method(row['Termination']), axis=1)\n",
    "\n",
    "assert len(chess_df[chess_df[\"VictoryMethod\"]==0]) == 0"
   ]
  },
  {
   "cell_type": "code",
   "execution_count": 205,
   "id": "0187fec8-0196-46a9-af3c-366b3b37b43b",
   "metadata": {},
   "outputs": [],
   "source": [
    "def check_time_mode(time_control):\n",
    "    if \"/\" in time_control:\n",
    "        return \"Daily\"\n",
    "    time_control = int(time_control.split(\"+\")[0])\n",
    "    if time_control < 180:\n",
    "        return \"Bullet\"\n",
    "    if time_control >= 600:\n",
    "        return \"Rapid\"\n",
    "    if time_control < 600:\n",
    "        return \"Blitz\"\n",
    "chess_df[\"TimeMode\"] = chess_df.apply(lambda row: check_time_mode(row['TimeControl']), axis=1)"
   ]
  },
  {
   "cell_type": "code",
   "execution_count": 206,
   "id": "6c0b628d-ed91-4ad3-b3ff-1ab1921d4211",
   "metadata": {},
   "outputs": [
    {
     "data": {
      "text/plain": [
       "Event                                                     Live Chess\n",
       "Site                                                       Chess.com\n",
       "Date                                                      2022.01.17\n",
       "Round                                                              -\n",
       "White                                                      Matiax317\n",
       "Black                                                       kirkey02\n",
       "Result                                                           0-1\n",
       "CurrentPosition     1r4k1/5ppp/Q3p3/2pp4/8/3bP3/P2N1PPP/2q1K2R w K -\n",
       "Timezone                                                         UTC\n",
       "ECO                                                              D00\n",
       "ECOUrl             https://www.chess.com/openings/Queens-Pawn-Ope...\n",
       "UTCDate                                                   2022.01.17\n",
       "UTCTime                                                     22:44:24\n",
       "WhiteElo                                                        1317\n",
       "BlackElo                                                        1332\n",
       "TimeControl                                                      600\n",
       "Termination                                kirkey02 won by checkmate\n",
       "StartTime                                                   22:44:24\n",
       "EndDate                                                   2022.01.17\n",
       "EndTime                                                     22:48:00\n",
       "Link                     https://www.chess.com/game/live/36198531417\n",
       "Moves              1. d4 {[%clk 0:10:00]} 1... d5 {[%clk 0:10:00]...\n",
       "W/L_Points                                                        -1\n",
       "ResultWords                                                     Loss\n",
       "Colour                                                         Black\n",
       "VictoryMethod                                              Checkmate\n",
       "TimeMode                                                       Rapid\n",
       "Rating                                                          1332\n",
       "OpponentRating                                                  1317\n",
       "Name: 163, dtype: object"
      ]
     },
     "execution_count": 206,
     "metadata": {},
     "output_type": "execute_result"
    }
   ],
   "source": [
    "chess_df['Rating'] = chess_df.apply(lambda row: row['WhiteElo'] if row['Colour'] == 'White' else row['BlackElo'], axis=1)\n",
    "chess_df['OpponentRating'] = chess_df.apply(lambda row: row['BlackElo'] if row['Colour'] == 'White' else row['WhiteElo'], axis=1)\n",
    "\n",
    "chess_df.iloc[100]"
   ]
  },
  {
   "cell_type": "code",
   "execution_count": 207,
   "id": "fa9f24ac-7da2-48fd-954e-bb5e9ee41eda",
   "metadata": {},
   "outputs": [],
   "source": [
    "chess_df.to_csv(\"chess_stats.csv\")"
   ]
  },
  {
   "cell_type": "code",
   "execution_count": null,
   "id": "372b202f-f57c-4ef6-b645-3eafc4ef9be5",
   "metadata": {},
   "outputs": [],
   "source": []
  }
 ],
 "metadata": {
  "kernelspec": {
   "display_name": "Python 3 (ipykernel)",
   "language": "python",
   "name": "python3"
  },
  "language_info": {
   "codemirror_mode": {
    "name": "ipython",
    "version": 3
   },
   "file_extension": ".py",
   "mimetype": "text/x-python",
   "name": "python",
   "nbconvert_exporter": "python",
   "pygments_lexer": "ipython3",
   "version": "3.9.13"
  }
 },
 "nbformat": 4,
 "nbformat_minor": 5
}
